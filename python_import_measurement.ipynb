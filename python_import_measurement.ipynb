{
 "cells": [
  {
   "cell_type": "code",
   "execution_count": 1,
   "id": "ff219396-bd2d-48b4-ad14-55ccb4e5528c",
   "metadata": {},
   "outputs": [],
   "source": [
    "import json"
   ]
  },
  {
   "cell_type": "code",
   "execution_count": 13,
   "id": "5a8a67f8-1cdd-4d00-86d3-fc7a04dde81c",
   "metadata": {},
   "outputs": [],
   "source": [
    "import boto3\n",
    "import pandas as pd"
   ]
  },
  {
   "cell_type": "code",
   "execution_count": 3,
   "id": "5bc07f4c-892f-4dcf-ba94-d68c5da123b5",
   "metadata": {},
   "outputs": [],
   "source": [
    "session = boto3.session.Session()"
   ]
  },
  {
   "cell_type": "code",
   "execution_count": 4,
   "id": "392c3d6f-9225-4df9-bae3-b3ebe922200a",
   "metadata": {},
   "outputs": [
    {
     "data": {
      "text/plain": [
       "{'UserId': 'AROA5TWTPH6BVIRFIP7Q6:eoin.shanaghy@fourtheorem.com',\n",
       " 'Account': '935672627075',\n",
       " 'Arn': 'arn:aws:sts::935672627075:assumed-role/AWSReservedSSO_DevAdministratorAccess_427a06cd5ebe9968/eoin.shanaghy@fourtheorem.com',\n",
       " 'ResponseMetadata': {'RequestId': '9c9d4499-fb58-4bbf-aa4c-729ad85f0d22',\n",
       "  'HTTPStatusCode': 200,\n",
       "  'HTTPHeaders': {'x-amzn-requestid': '9c9d4499-fb58-4bbf-aa4c-729ad85f0d22',\n",
       "   'content-type': 'text/xml',\n",
       "   'content-length': '519',\n",
       "   'date': 'Fri, 24 Nov 2023 14:49:48 GMT'},\n",
       "  'RetryAttempts': 0}}"
      ]
     },
     "execution_count": 4,
     "metadata": {},
     "output_type": "execute_result"
    }
   ],
   "source": [
    "sts = session.client('sts')\n",
    "sts.get_caller_identity()"
   ]
  },
  {
   "cell_type": "code",
   "execution_count": 5,
   "id": "06638e85-8421-41be-9745-635c2e0fe245",
   "metadata": {},
   "outputs": [],
   "source": [
    "lambda_client = session.client('lambda')"
   ]
  },
  {
   "cell_type": "code",
   "execution_count": 6,
   "id": "8f1fadf0-da8e-4c10-a0dc-1e23305c1ad7",
   "metadata": {},
   "outputs": [],
   "source": [
    "paginator = lambda_client.get_paginator('list_functions')"
   ]
  },
  {
   "cell_type": "code",
   "execution_count": 9,
   "id": "97f8d4ca-84fc-4224-946e-d53a593762f4",
   "metadata": {},
   "outputs": [
    {
     "data": {
      "text/plain": [
       "['perf_zip_Python39_import_measure',\n",
       " 'perf_image_Python39_import_measure',\n",
       " 'perf_zip_layers_Python38_import_measure',\n",
       " 'perf_zip_Python310_import_measure',\n",
       " 'perf_zip_Python311_import_measure',\n",
       " 'perf_zip_layers_Python311_import_measure',\n",
       " 'perf_image_Python311_import_measure',\n",
       " 'perf_zip_layers_Python310_import_measure',\n",
       " 'perf_zip_layers_Python39_import_measure',\n",
       " 'perf_image_Python38_import_measure',\n",
       " 'perf_zip_Python38_import_measure',\n",
       " 'perf_image_Python310_import_measure']"
      ]
     },
     "execution_count": 9,
     "metadata": {},
     "output_type": "execute_result"
    }
   ],
   "source": [
    "iter = paginator.paginate()\n",
    "function_names = [f['FunctionName'] for page in iter for f in page['Functions']]\n",
    "measurement_function_names = [fn for fn in function_names if fn.startswith('perf_') and fn.endswith('_import_measure')]\n",
    "measurement_function_names"
   ]
  },
  {
   "cell_type": "code",
   "execution_count": 10,
   "id": "0564b853-d2f0-4008-814e-cd8e8aca845a",
   "metadata": {},
   "outputs": [],
   "source": [
    "responses = {fn: lambda_client.invoke(FunctionName=fn, InvocationType=\"RequestResponse\") for fn in measurement_function_names}    "
   ]
  },
  {
   "cell_type": "code",
   "execution_count": 11,
   "id": "a741e86d-be40-46d7-8f71-07fdfdd7b597",
   "metadata": {},
   "outputs": [],
   "source": [
    "results = {fn: json.load(val['Payload']) for fn, val in responses.items()}"
   ]
  },
  {
   "cell_type": "code",
   "execution_count": 12,
   "id": "e09be685-f9da-486d-9861-41ac7fc05c1b",
   "metadata": {},
   "outputs": [
    {
     "data": {
      "text/plain": [
       "{'perf_zip_Python39_import_measure': {'numpy': 834658.898,\n",
       "  'pandas': 3097687.964,\n",
       "  'pyarrow': 3.237,\n",
       "  'pyarrow.parquet': 185615.269,\n",
       "  'boto3': 183934.103},\n",
       " 'perf_image_Python39_import_measure': {'numpy': 890267.64,\n",
       "  'pandas': 3198348.908,\n",
       "  'pyarrow': 3.567,\n",
       "  'pyarrow.parquet': 188608.51,\n",
       "  'boto3': 197334.155},\n",
       " 'perf_zip_layers_Python38_import_measure': {'numpy': 832815.883,\n",
       "  'pandas': 3124460.797,\n",
       "  'pyarrow': 3.08,\n",
       "  'pyarrow.parquet': 202379.219,\n",
       "  'boto3': 195430.227},\n",
       " 'perf_zip_Python310_import_measure': {'numpy': 862707.933,\n",
       "  'pandas': 3156157.823,\n",
       "  'pyarrow': 2.404,\n",
       "  'pyarrow.parquet': 187799.26,\n",
       "  'boto3': 194015.137},\n",
       " 'perf_zip_Python311_import_measure': {'numpy': 874864.23,\n",
       "  'pandas': 3250313.898,\n",
       "  'pyarrow': 3.266,\n",
       "  'pyarrow.parquet': 187586.673,\n",
       "  'boto3': 179576.619},\n",
       " 'perf_zip_layers_Python311_import_measure': {'numpy': 829189.137,\n",
       "  'pandas': 3037320.064,\n",
       "  'pyarrow': 2.599,\n",
       "  'pyarrow.parquet': 197616.677,\n",
       "  'boto3': 160672.473},\n",
       " 'perf_image_Python311_import_measure': {'numpy': 850410.215,\n",
       "  'pandas': 3086290.574,\n",
       "  'pyarrow': 3.118,\n",
       "  'pyarrow.parquet': 196061.877,\n",
       "  'boto3': 168108.413},\n",
       " 'perf_zip_layers_Python310_import_measure': {'numpy': 878432.048,\n",
       "  'pandas': 3272346.674,\n",
       "  'pyarrow': 5.99,\n",
       "  'pyarrow.parquet': 186724.287,\n",
       "  'boto3': 188822.421},\n",
       " 'perf_zip_layers_Python39_import_measure': {'numpy': 854627.226,\n",
       "  'pandas': 3141301.432,\n",
       "  'pyarrow': 3.224,\n",
       "  'pyarrow.parquet': 194595.623,\n",
       "  'boto3': 180821.326},\n",
       " 'perf_image_Python38_import_measure': {'numpy': 776178.184,\n",
       "  'pandas': 2895664.965,\n",
       "  'pyarrow': 2.531,\n",
       "  'pyarrow.parquet': 187800.165,\n",
       "  'boto3': 179482.829},\n",
       " 'perf_zip_Python38_import_measure': {'numpy': 794281.014,\n",
       "  'pandas': 3065766.095,\n",
       "  'pyarrow': 2.853,\n",
       "  'pyarrow.parquet': 195973.283,\n",
       "  'boto3': 195804.756},\n",
       " 'perf_image_Python310_import_measure': {'numpy': 851961.176,\n",
       "  'pandas': 3275334.281,\n",
       "  'pyarrow': 2.657,\n",
       "  'pyarrow.parquet': 187478.219,\n",
       "  'boto3': 191124.471}}"
      ]
     },
     "execution_count": 12,
     "metadata": {},
     "output_type": "execute_result"
    }
   ],
   "source": [
    "results"
   ]
  },
  {
   "cell_type": "code",
   "execution_count": 15,
   "id": "e97171ba-b57a-4321-a8ed-4fb9f7a1181b",
   "metadata": {},
   "outputs": [
    {
     "name": "stdout",
     "output_type": "stream",
     "text": [
      "module                                         boto3       numpy       pandas  \\\n",
      "runtime_function                                                                \n",
      "perf_image_Python310_import_measure       191124.471  851961.176  3275334.281   \n",
      "perf_image_Python311_import_measure       168108.413  850410.215  3086290.574   \n",
      "perf_image_Python38_import_measure        179482.829  776178.184  2895664.965   \n",
      "perf_image_Python39_import_measure        197334.155  890267.640  3198348.908   \n",
      "perf_zip_Python310_import_measure         194015.137  862707.933  3156157.823   \n",
      "perf_zip_Python311_import_measure         179576.619  874864.230  3250313.898   \n",
      "perf_zip_Python38_import_measure          195804.756  794281.014  3065766.095   \n",
      "perf_zip_Python39_import_measure          183934.103  834658.898  3097687.964   \n",
      "perf_zip_layers_Python310_import_measure  188822.421  878432.048  3272346.674   \n",
      "perf_zip_layers_Python311_import_measure  160672.473  829189.137  3037320.064   \n",
      "perf_zip_layers_Python38_import_measure   195430.227  832815.883  3124460.797   \n",
      "perf_zip_layers_Python39_import_measure   180821.326  854627.226  3141301.432   \n",
      "\n",
      "module                                    pyarrow  pyarrow.parquet  \n",
      "runtime_function                                                    \n",
      "perf_image_Python310_import_measure         2.657       187478.219  \n",
      "perf_image_Python311_import_measure         3.118       196061.877  \n",
      "perf_image_Python38_import_measure          2.531       187800.165  \n",
      "perf_image_Python39_import_measure          3.567       188608.510  \n",
      "perf_zip_Python310_import_measure           2.404       187799.260  \n",
      "perf_zip_Python311_import_measure           3.266       187586.673  \n",
      "perf_zip_Python38_import_measure            2.853       195973.283  \n",
      "perf_zip_Python39_import_measure            3.237       185615.269  \n",
      "perf_zip_layers_Python310_import_measure    5.990       186724.287  \n",
      "perf_zip_layers_Python311_import_measure    2.599       197616.677  \n",
      "perf_zip_layers_Python38_import_measure     3.080       202379.219  \n",
      "perf_zip_layers_Python39_import_measure     3.224       194595.623  \n"
     ]
    }
   ],
   "source": [
    "flattened_data = []\n",
    "for runtime_function, modules in results.items():\n",
    "    for module, load_time in modules.items():\n",
    "        flattened_data.append({'runtime_function': runtime_function, 'module': module, 'load_time': load_time})\n",
    "\n",
    "df = pd.DataFrame(flattened_data)\n",
    "\n",
    "pivot_df = df.pivot(index='runtime_function', columns='module', values='load_time')\n",
    "\n",
    "print(pivot_df)"
   ]
  },
  {
   "cell_type": "code",
   "execution_count": 18,
   "id": "179e5705-9d06-4b34-be35-70f880c2c59d",
   "metadata": {},
   "outputs": [
    {
     "data": {
      "text/html": [
       "<div>\n",
       "<style scoped>\n",
       "    .dataframe tbody tr th:only-of-type {\n",
       "        vertical-align: middle;\n",
       "    }\n",
       "\n",
       "    .dataframe tbody tr th {\n",
       "        vertical-align: top;\n",
       "    }\n",
       "\n",
       "    .dataframe thead th {\n",
       "        text-align: right;\n",
       "    }\n",
       "</style>\n",
       "<table border=\"1\" class=\"dataframe\">\n",
       "  <thead>\n",
       "    <tr style=\"text-align: right;\">\n",
       "      <th>module</th>\n",
       "      <th>boto3</th>\n",
       "      <th>numpy</th>\n",
       "      <th>pandas</th>\n",
       "      <th>pyarrow</th>\n",
       "      <th>pyarrow.parquet</th>\n",
       "      <th>total_load_time_seconds</th>\n",
       "    </tr>\n",
       "    <tr>\n",
       "      <th>runtime_function</th>\n",
       "      <th></th>\n",
       "      <th></th>\n",
       "      <th></th>\n",
       "      <th></th>\n",
       "      <th></th>\n",
       "      <th></th>\n",
       "    </tr>\n",
       "  </thead>\n",
       "  <tbody>\n",
       "    <tr>\n",
       "      <th>perf_image_Python310_import_measure</th>\n",
       "      <td>191124.471</td>\n",
       "      <td>851961.176</td>\n",
       "      <td>3275334.281</td>\n",
       "      <td>2.657</td>\n",
       "      <td>187478.219</td>\n",
       "      <td>4.505901</td>\n",
       "    </tr>\n",
       "    <tr>\n",
       "      <th>perf_image_Python311_import_measure</th>\n",
       "      <td>168108.413</td>\n",
       "      <td>850410.215</td>\n",
       "      <td>3086290.574</td>\n",
       "      <td>3.118</td>\n",
       "      <td>196061.877</td>\n",
       "      <td>4.300874</td>\n",
       "    </tr>\n",
       "    <tr>\n",
       "      <th>perf_image_Python38_import_measure</th>\n",
       "      <td>179482.829</td>\n",
       "      <td>776178.184</td>\n",
       "      <td>2895664.965</td>\n",
       "      <td>2.531</td>\n",
       "      <td>187800.165</td>\n",
       "      <td>4.039129</td>\n",
       "    </tr>\n",
       "    <tr>\n",
       "      <th>perf_image_Python39_import_measure</th>\n",
       "      <td>197334.155</td>\n",
       "      <td>890267.640</td>\n",
       "      <td>3198348.908</td>\n",
       "      <td>3.567</td>\n",
       "      <td>188608.510</td>\n",
       "      <td>4.474563</td>\n",
       "    </tr>\n",
       "    <tr>\n",
       "      <th>perf_zip_Python310_import_measure</th>\n",
       "      <td>194015.137</td>\n",
       "      <td>862707.933</td>\n",
       "      <td>3156157.823</td>\n",
       "      <td>2.404</td>\n",
       "      <td>187799.260</td>\n",
       "      <td>4.400683</td>\n",
       "    </tr>\n",
       "    <tr>\n",
       "      <th>perf_zip_Python311_import_measure</th>\n",
       "      <td>179576.619</td>\n",
       "      <td>874864.230</td>\n",
       "      <td>3250313.898</td>\n",
       "      <td>3.266</td>\n",
       "      <td>187586.673</td>\n",
       "      <td>4.492345</td>\n",
       "    </tr>\n",
       "    <tr>\n",
       "      <th>perf_zip_Python38_import_measure</th>\n",
       "      <td>195804.756</td>\n",
       "      <td>794281.014</td>\n",
       "      <td>3065766.095</td>\n",
       "      <td>2.853</td>\n",
       "      <td>195973.283</td>\n",
       "      <td>4.251828</td>\n",
       "    </tr>\n",
       "    <tr>\n",
       "      <th>perf_zip_Python39_import_measure</th>\n",
       "      <td>183934.103</td>\n",
       "      <td>834658.898</td>\n",
       "      <td>3097687.964</td>\n",
       "      <td>3.237</td>\n",
       "      <td>185615.269</td>\n",
       "      <td>4.301899</td>\n",
       "    </tr>\n",
       "    <tr>\n",
       "      <th>perf_zip_layers_Python310_import_measure</th>\n",
       "      <td>188822.421</td>\n",
       "      <td>878432.048</td>\n",
       "      <td>3272346.674</td>\n",
       "      <td>5.990</td>\n",
       "      <td>186724.287</td>\n",
       "      <td>4.526331</td>\n",
       "    </tr>\n",
       "    <tr>\n",
       "      <th>perf_zip_layers_Python311_import_measure</th>\n",
       "      <td>160672.473</td>\n",
       "      <td>829189.137</td>\n",
       "      <td>3037320.064</td>\n",
       "      <td>2.599</td>\n",
       "      <td>197616.677</td>\n",
       "      <td>4.224801</td>\n",
       "    </tr>\n",
       "    <tr>\n",
       "      <th>perf_zip_layers_Python38_import_measure</th>\n",
       "      <td>195430.227</td>\n",
       "      <td>832815.883</td>\n",
       "      <td>3124460.797</td>\n",
       "      <td>3.080</td>\n",
       "      <td>202379.219</td>\n",
       "      <td>4.355089</td>\n",
       "    </tr>\n",
       "    <tr>\n",
       "      <th>perf_zip_layers_Python39_import_measure</th>\n",
       "      <td>180821.326</td>\n",
       "      <td>854627.226</td>\n",
       "      <td>3141301.432</td>\n",
       "      <td>3.224</td>\n",
       "      <td>194595.623</td>\n",
       "      <td>4.371349</td>\n",
       "    </tr>\n",
       "  </tbody>\n",
       "</table>\n",
       "</div>"
      ],
      "text/plain": [
       "module                                         boto3       numpy       pandas  \\\n",
       "runtime_function                                                                \n",
       "perf_image_Python310_import_measure       191124.471  851961.176  3275334.281   \n",
       "perf_image_Python311_import_measure       168108.413  850410.215  3086290.574   \n",
       "perf_image_Python38_import_measure        179482.829  776178.184  2895664.965   \n",
       "perf_image_Python39_import_measure        197334.155  890267.640  3198348.908   \n",
       "perf_zip_Python310_import_measure         194015.137  862707.933  3156157.823   \n",
       "perf_zip_Python311_import_measure         179576.619  874864.230  3250313.898   \n",
       "perf_zip_Python38_import_measure          195804.756  794281.014  3065766.095   \n",
       "perf_zip_Python39_import_measure          183934.103  834658.898  3097687.964   \n",
       "perf_zip_layers_Python310_import_measure  188822.421  878432.048  3272346.674   \n",
       "perf_zip_layers_Python311_import_measure  160672.473  829189.137  3037320.064   \n",
       "perf_zip_layers_Python38_import_measure   195430.227  832815.883  3124460.797   \n",
       "perf_zip_layers_Python39_import_measure   180821.326  854627.226  3141301.432   \n",
       "\n",
       "module                                    pyarrow  pyarrow.parquet  \\\n",
       "runtime_function                                                     \n",
       "perf_image_Python310_import_measure         2.657       187478.219   \n",
       "perf_image_Python311_import_measure         3.118       196061.877   \n",
       "perf_image_Python38_import_measure          2.531       187800.165   \n",
       "perf_image_Python39_import_measure          3.567       188608.510   \n",
       "perf_zip_Python310_import_measure           2.404       187799.260   \n",
       "perf_zip_Python311_import_measure           3.266       187586.673   \n",
       "perf_zip_Python38_import_measure            2.853       195973.283   \n",
       "perf_zip_Python39_import_measure            3.237       185615.269   \n",
       "perf_zip_layers_Python310_import_measure    5.990       186724.287   \n",
       "perf_zip_layers_Python311_import_measure    2.599       197616.677   \n",
       "perf_zip_layers_Python38_import_measure     3.080       202379.219   \n",
       "perf_zip_layers_Python39_import_measure     3.224       194595.623   \n",
       "\n",
       "module                                    total_load_time_seconds  \n",
       "runtime_function                                                   \n",
       "perf_image_Python310_import_measure                      4.505901  \n",
       "perf_image_Python311_import_measure                      4.300874  \n",
       "perf_image_Python38_import_measure                       4.039129  \n",
       "perf_image_Python39_import_measure                       4.474563  \n",
       "perf_zip_Python310_import_measure                        4.400683  \n",
       "perf_zip_Python311_import_measure                        4.492345  \n",
       "perf_zip_Python38_import_measure                         4.251828  \n",
       "perf_zip_Python39_import_measure                         4.301899  \n",
       "perf_zip_layers_Python310_import_measure                 4.526331  \n",
       "perf_zip_layers_Python311_import_measure                 4.224801  \n",
       "perf_zip_layers_Python38_import_measure                  4.355089  \n",
       "perf_zip_layers_Python39_import_measure                  4.371349  "
      ]
     },
     "execution_count": 18,
     "metadata": {},
     "output_type": "execute_result"
    }
   ],
   "source": [
    "pivot_df"
   ]
  },
  {
   "cell_type": "code",
   "execution_count": 17,
   "id": "394ba9bf-48fa-4841-880e-ad647df5499c",
   "metadata": {},
   "outputs": [],
   "source": [
    "pivot_df['total_load_time_seconds'] = pivot_df.sum(axis=1) / 1000000"
   ]
  },
  {
   "cell_type": "code",
   "execution_count": null,
   "id": "3a36ce9c-5307-450c-96ba-cbb8a785b074",
   "metadata": {},
   "outputs": [],
   "source": []
  }
 ],
 "metadata": {
  "kernelspec": {
   "display_name": "Python 3 (ipykernel)",
   "language": "python",
   "name": "python3"
  },
  "language_info": {
   "codemirror_mode": {
    "name": "ipython",
    "version": 3
   },
   "file_extension": ".py",
   "mimetype": "text/x-python",
   "name": "python",
   "nbconvert_exporter": "python",
   "pygments_lexer": "ipython3",
   "version": "3.10.13"
  }
 },
 "nbformat": 4,
 "nbformat_minor": 5
}
